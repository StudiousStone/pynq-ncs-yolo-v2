{
 "cells": [
  {
   "cell_type": "markdown",
   "metadata": {},
   "source": [
    "# YOLOv2 on PYNQ-Z1 and Movidius NCS: HDMI example\n",
    "To run this notebook, you need to connect the PYNQ-Z1 HDMI input to a video source and connect the HDMI output to a monitor. See this guide to [setup your PYNQ-Z1 for the Movidius NCS](http://www.fpgadeveloper.com/2018/04/setting-up-the-pynq-z1-for-the-intel-movidius-neural-compute-stick.html).\n",
    "### Load required packages and the base overlay"
   ]
  },
  {
   "cell_type": "code",
   "execution_count": 1,
   "metadata": {},
   "outputs": [
    {
     "data": {
      "application/javascript": [
       "\n",
       "require(['notebook/js/codecell'], function(codecell) {\n",
       "  codecell.CodeCell.options_default.highlight_modes[\n",
       "      'magic_text/x-csrc'] = {'reg':[/^%%microblaze/]};\n",
       "  Jupyter.notebook.events.one('kernel_ready.Kernel', function(){\n",
       "      Jupyter.notebook.get_cells().map(function(cell){\n",
       "          if (cell.cell_type == 'code'){ cell.auto_highlight(); } }) ;\n",
       "  });\n",
       "});\n"
      ]
     },
     "metadata": {},
     "output_type": "display_data"
    }
   ],
   "source": [
    "import cv2\n",
    "import numpy as np\n",
    "import time\n",
    "from pynq.overlays.base import BaseOverlay\n",
    "from pynq.lib.video import *\n",
    "\n",
    "import sys\n",
    "sys.path.insert(0, '../detectionExample')\n",
    "\n",
    "from ObjectWrapper import *\n",
    "from Visualize import *\n",
    "\n",
    "# Load the base overlay\n",
    "base = BaseOverlay(\"base.bit\")"
   ]
  },
  {
   "cell_type": "markdown",
   "metadata": {},
   "source": [
    "### Configure the HDMI input and output\n",
    "We configure both interfaces for RGB as our YOLO network needs RGB frames"
   ]
  },
  {
   "cell_type": "code",
   "execution_count": 2,
   "metadata": {},
   "outputs": [
    {
     "data": {
      "text/plain": [
       "<contextlib._GeneratorContextManager at 0x2945ee30>"
      ]
     },
     "execution_count": 2,
     "metadata": {},
     "output_type": "execute_result"
    }
   ],
   "source": [
    "hdmi_in = base.video.hdmi_in\n",
    "hdmi_out = base.video.hdmi_out\n",
    "\n",
    "# Configure the HDMI output to the same resolution as the HDMI input\n",
    "hdmi_in.configure(PIXEL_RGB)\n",
    "hdmi_out.configure(hdmi_in.mode, PIXEL_RGB)\n",
    "\n",
    "# Start the HDMI interfaces\n",
    "hdmi_in.start()\n",
    "hdmi_out.start()"
   ]
  },
  {
   "cell_type": "markdown",
   "metadata": {},
   "source": [
    "### Open the Movidius NCS"
   ]
  },
  {
   "cell_type": "code",
   "execution_count": 3,
   "metadata": {},
   "outputs": [],
   "source": [
    "# Open the Movidius NCS device\n",
    "detector = ObjectWrapper('../graph')"
   ]
  },
  {
   "cell_type": "markdown",
   "metadata": {},
   "source": [
    "### Calculate subframe indices to cut out of the input frame for the YOLO network"
   ]
  },
  {
   "cell_type": "code",
   "execution_count": 4,
   "metadata": {},
   "outputs": [
    {
     "name": "stdout",
     "output_type": "stream",
     "text": [
      "offx_orig: 0 offy_orig: 280 xscale: 1.0 yscale: 0.5625\n"
     ]
    }
   ],
   "source": [
    "# YOLOv2 input frame dimensions\n",
    "dim = detector.dim\n",
    "\n",
    "# The input frame width and height\n",
    "frame_in_w = hdmi_in.mode.width\n",
    "frame_in_h = hdmi_in.mode.height\n",
    "\n",
    "# The frame width and height required by the YOLO network\n",
    "yolo_width = dim[0]\n",
    "yolo_height = dim[1]\n",
    "\n",
    "# The subframe indicies to cut-out for the YOLO network (the middle of the input frame)\n",
    "frame_top = (frame_in_h-yolo_height)//2\n",
    "frame_bot = frame_in_h-frame_top\n",
    "frame_left = (frame_in_w-yolo_width)//2\n",
    "frame_right = frame_in_w-frame_left\n",
    "\n",
    "if frame_in_h/frame_in_w > dim[1]/dim[0]:\n",
    "    neww = int(frame_in_w * dim[1] / frame_in_h)\n",
    "    newh = dim[1]\n",
    "else:\n",
    "    newh = int(frame_in_h * dim[0] / frame_in_w)\n",
    "    neww = dim[0]\n",
    "offx = int((dim[0] - neww)/2)\n",
    "offy = int((dim[1] - newh)/2)\n",
    "\n",
    "# X offset of the image WRT the original image size\n",
    "offx_orig = int(offx*frame_in_w/neww)\n",
    "# Y offset of the image WRT the original image size\n",
    "offy_orig = int(offy*frame_in_h/newh)\n",
    "# Horizontal scale factor\n",
    "xscale = neww/dim[0]\n",
    "# Vertical scale factor\n",
    "yscale = newh/dim[1]\n",
    "\n",
    "print('offx_orig:',offx_orig,'offy_orig:',offy_orig,'xscale:',xscale,'yscale:',yscale)"
   ]
  },
  {
   "cell_type": "markdown",
   "metadata": {},
   "source": [
    "### HDMI video pass-through (without YOLO)"
   ]
  },
  {
   "cell_type": "code",
   "execution_count": 5,
   "metadata": {},
   "outputs": [
    {
     "name": "stdout",
     "output_type": "stream",
     "text": [
      "Runtime: 33.403541564941406 FPS: 59.87389080022265\n"
     ]
    }
   ],
   "source": [
    "n_frames = 2000\n",
    "\n",
    "start_time = time.time()\n",
    "\n",
    "for _ in range(n_frames):\n",
    "    frame = hdmi_in.readframe()\n",
    "    frame_out = hdmi_out.newframe()\n",
    "    frame_out[frame_top:frame_bot,frame_left:frame_right,:] = frame[frame_top:frame_bot,frame_left:frame_right,:]\n",
    "    hdmi_out.writeframe(frame_out)\n",
    "\n",
    "end_time = time.time()\n",
    "\n",
    "print('Runtime:',end_time-start_time,'FPS:',n_frames/(end_time-start_time))"
   ]
  },
  {
   "cell_type": "markdown",
   "metadata": {},
   "source": [
    "### HDMI video with YOLO"
   ]
  },
  {
   "cell_type": "code",
   "execution_count": 6,
   "metadata": {},
   "outputs": [
    {
     "name": "stdout",
     "output_type": "stream",
     "text": [
      "Runtime: 63.896953105926514 FPS: 3.130039701086307\n"
     ]
    }
   ],
   "source": [
    "n_frames = 200\n",
    "\n",
    "start_time = time.time()\n",
    "\n",
    "for _ in range(n_frames):\n",
    "    # Get a frame from HDMI input\n",
    "    frame = hdmi_in.readframe()\n",
    "    \n",
    "    # Cut out a sub-frame for NCS (416x416) and divide all RGB values by 255\n",
    "    small_frame = frame[frame_top:frame_bot,frame_left:frame_right,:]\n",
    "    ncs_frame = small_frame.copy()/255.0\n",
    "\n",
    "    # Send the frame to the NCS\n",
    "    results = detector.DetectFromPreparedImage(ncs_frame,dim[0],dim[1],0,0,1.0,1.0)\n",
    "    \n",
    "    # Interpret results and draw the boxes on the image\n",
    "    img_res = Visualize(small_frame, results)\n",
    "\n",
    "    # Copy labelled image into output frame\n",
    "    frame_out = hdmi_out.newframe()\n",
    "    frame_out[frame_top:frame_bot,frame_left:frame_right,:] = img_res[:,:,:]\n",
    "    hdmi_out.writeframe(frame_out)\n",
    "\n",
    "end_time = time.time()\n",
    "\n",
    "print('Runtime:',end_time-start_time,'FPS:',n_frames/(end_time-start_time))"
   ]
  },
  {
   "cell_type": "markdown",
   "metadata": {},
   "source": [
    "### HDMI video with YOLO full frame\n",
    "In this test we resize the whole input frame to the size required by the YOLO network (448x448). The resize operation is performed by software, so it has a significant drag on the runtime and FPS. In the future, I'll try moving the resize operation to the FPGA."
   ]
  },
  {
   "cell_type": "code",
   "execution_count": 7,
   "metadata": {},
   "outputs": [
    {
     "name": "stdout",
     "output_type": "stream",
     "text": [
      "Runtime: 168.42586183547974 FPS: 1.1874660923235307\n"
     ]
    }
   ],
   "source": [
    "n_frames = 200\n",
    "\n",
    "# Initialize frame to be sent to network\n",
    "ncs_frame = np.empty((dim[0], dim[1], 3))\n",
    "ncs_frame.fill(0.5)\n",
    "\n",
    "start_time = time.time()\n",
    "\n",
    "for _ in range(n_frames):\n",
    "    # Get a frame from HDMI input\n",
    "    frame = hdmi_in.readframe()\n",
    "    \n",
    "    # Resize to the frame size required by YOLO network (416x416)\n",
    "    small_frame = cv2.resize(frame, dsize=(neww, newh), interpolation=cv2.INTER_CUBIC)\n",
    "    ncs_frame[offy:offy+newh,offx:offx+neww,:] = small_frame.copy()/255.0\n",
    "    \n",
    "    # Send the frame to the NCS\n",
    "    results = detector.DetectFromPreparedImage(ncs_frame,frame_in_w,frame_in_h,offx_orig,offy_orig,xscale,yscale)\n",
    "    \n",
    "    # Interpret results and draw the boxes on the image\n",
    "    img_res = Visualize(frame, results)\n",
    "    \n",
    "    # Copy labelled image into the output frame\n",
    "    frame_out = hdmi_out.newframe()\n",
    "    frame_out[:,:,:] = img_res[:,:,:]\n",
    "    hdmi_out.writeframe(frame_out)\n",
    "\n",
    "end_time = time.time()\n",
    "\n",
    "print('Runtime:',end_time-start_time,'FPS:',n_frames/(end_time-start_time))"
   ]
  },
  {
   "cell_type": "markdown",
   "metadata": {},
   "source": [
    "### Close the Movidius NCS"
   ]
  },
  {
   "cell_type": "code",
   "execution_count": 8,
   "metadata": {},
   "outputs": [],
   "source": [
    "del detector"
   ]
  },
  {
   "cell_type": "markdown",
   "metadata": {},
   "source": [
    "### Close the HDMI interfaces"
   ]
  },
  {
   "cell_type": "code",
   "execution_count": 9,
   "metadata": {},
   "outputs": [],
   "source": [
    "hdmi_out.stop()\n",
    "hdmi_in.stop()\n",
    "del hdmi_in, hdmi_out"
   ]
  },
  {
   "cell_type": "code",
   "execution_count": null,
   "metadata": {},
   "outputs": [],
   "source": []
  }
 ],
 "metadata": {
  "kernelspec": {
   "display_name": "Python 3",
   "language": "python",
   "name": "python3"
  },
  "language_info": {
   "codemirror_mode": {
    "name": "ipython",
    "version": 3
   },
   "file_extension": ".py",
   "mimetype": "text/x-python",
   "name": "python",
   "nbconvert_exporter": "python",
   "pygments_lexer": "ipython3",
   "version": "3.6.0"
  }
 },
 "nbformat": 4,
 "nbformat_minor": 2
}
