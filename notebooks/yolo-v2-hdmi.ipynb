{
 "cells": [
  {
   "cell_type": "markdown",
   "metadata": {},
   "source": [
    "# YOLOv2 on PYNQ-Z1 and Movidius NCS: HDMI example\n",
    "To run this notebook, you need to connect the PYNQ-Z1 HDMI input to a video source and connect the HDMI output to a monitor.\n",
    "### Load required packages and the base overlay"
   ]
  },
  {
   "cell_type": "code",
   "execution_count": 9,
   "metadata": {},
   "outputs": [],
   "source": [
    "import cv2\n",
    "import numpy as np\n",
    "import time\n",
    "from pynq.overlays.base import BaseOverlay\n",
    "from pynq.lib.video import *\n",
    "\n",
    "import sys\n",
    "sys.path.insert(0, '../detectionExample')\n",
    "\n",
    "from ObjectWrapper import *\n",
    "from Visualize import *\n",
    "\n",
    "# Load the base overlay\n",
    "base = BaseOverlay(\"base.bit\")"
   ]
  },
  {
   "cell_type": "markdown",
   "metadata": {},
   "source": [
    "### Configure the HDMI input and output\n",
    "We configure both interfaces for RGB as our YOLO network needs RGB frames"
   ]
  },
  {
   "cell_type": "code",
   "execution_count": 10,
   "metadata": {},
   "outputs": [
    {
     "data": {
      "text/plain": [
       "<contextlib._GeneratorContextManager at 0x29109e10>"
      ]
     },
     "execution_count": 10,
     "metadata": {},
     "output_type": "execute_result"
    }
   ],
   "source": [
    "hdmi_in = base.video.hdmi_in\n",
    "hdmi_out = base.video.hdmi_out\n",
    "\n",
    "# Configure the HDMI output to the same resolution as the HDMI input\n",
    "hdmi_in.configure(PIXEL_RGB)\n",
    "hdmi_out.configure(hdmi_in.mode, PIXEL_RGB)\n",
    "\n",
    "# Start the HDMI interfaces\n",
    "hdmi_in.start()\n",
    "hdmi_out.start()"
   ]
  },
  {
   "cell_type": "markdown",
   "metadata": {},
   "source": [
    "### Open the Movidius NCS"
   ]
  },
  {
   "cell_type": "code",
   "execution_count": 11,
   "metadata": {},
   "outputs": [
    {
     "name": "stdout",
     "output_type": "stream",
     "text": [
      "Graph file loaded to Movidius NCS\n"
     ]
    }
   ],
   "source": [
    "# Open the Movidius NCS device\n",
    "detector = ObjectWrapper('../graph')"
   ]
  },
  {
   "cell_type": "markdown",
   "metadata": {},
   "source": [
    "### Calculate subframe indices to cut out of the input frame for the YOLO network"
   ]
  },
  {
   "cell_type": "code",
   "execution_count": 12,
   "metadata": {},
   "outputs": [],
   "source": [
    "# The input frame width and height\n",
    "frame_in_width = hdmi_in.mode.width\n",
    "frame_in_height = hdmi_in.mode.height\n",
    "\n",
    "# The frame width and height required by the YOLO network\n",
    "yolo_width = 416\n",
    "yolo_height = 416\n",
    "\n",
    "# The subframe indicies to cut-out for the YOLO network (the middle of the input frame)\n",
    "frame_top = (frame_in_height-yolo_height)//2\n",
    "frame_bot = frame_in_height-frame_top\n",
    "frame_left = (frame_in_width-yolo_width)//2\n",
    "frame_right = frame_in_width-frame_left"
   ]
  },
  {
   "cell_type": "markdown",
   "metadata": {},
   "source": [
    "### HDMI video pass-through (without YOLO)"
   ]
  },
  {
   "cell_type": "code",
   "execution_count": 5,
   "metadata": {},
   "outputs": [
    {
     "name": "stdout",
     "output_type": "stream",
     "text": [
      "Runtime: 38.552093744277954 FPS: 51.87785683616334\n"
     ]
    }
   ],
   "source": [
    "n_frames = 2000\n",
    "\n",
    "start_time = time.time()\n",
    "\n",
    "for _ in range(n_frames):\n",
    "    frame = hdmi_in.readframe()\n",
    "    frame_out = hdmi_out.newframe()\n",
    "    frame_out[frame_top:frame_bot,frame_left:frame_right,:] = frame[frame_top:frame_bot,frame_left:frame_right,:]\n",
    "    hdmi_out.writeframe(frame_out)\n",
    "\n",
    "end_time = time.time()\n",
    "\n",
    "print('Runtime:',end_time-start_time,'FPS:',n_frames/(end_time-start_time))"
   ]
  },
  {
   "cell_type": "markdown",
   "metadata": {},
   "source": [
    "### HDMI video with YOLO"
   ]
  },
  {
   "cell_type": "code",
   "execution_count": 5,
   "metadata": {},
   "outputs": [
    {
     "name": "stdout",
     "output_type": "stream",
     "text": [
      "Runtime: 69.28905129432678 FPS: 2.8864589175920137\n"
     ]
    }
   ],
   "source": [
    "n_frames = 200\n",
    "\n",
    "start_time = time.time()\n",
    "\n",
    "for _ in range(n_frames):\n",
    "    # Get a frame from HDMI input\n",
    "    frame = hdmi_in.readframe()\n",
    "    \n",
    "    # Cut out a sub-frame for NCS (416x416) and divide all RGB values by 255\n",
    "    small_frame = frame[frame_top:frame_bot,frame_left:frame_right,:]\n",
    "    ncs_frame = small_frame.copy()/255.0\n",
    "\n",
    "    # Send the frame to the NCS\n",
    "    results = detector.Detect(frame)\n",
    "    \n",
    "    # Interpret results and draw the boxes on the image\n",
    "    img_res = Visualize(frame, results)\n",
    "\n",
    "    # Copy labelled image into output frame\n",
    "    frame_out = hdmi_out.newframe()\n",
    "    frame_out[frame_top:frame_bot,frame_left:frame_right,:] = img_res[:,:,:]\n",
    "    hdmi_out.writeframe(frame_out)\n",
    "\n",
    "end_time = time.time()\n",
    "\n",
    "print('Runtime:',end_time-start_time,'FPS:',n_frames/(end_time-start_time))"
   ]
  },
  {
   "cell_type": "markdown",
   "metadata": {},
   "source": [
    "### HDMI video with YOLO full frame\n",
    "In this test we resize the whole input frame to the size required by the YOLO network (448x448). The resize operation is performed by software, so it has a significant drag on the runtime and FPS. In the future, I'll try moving the resize operation to the FPGA."
   ]
  },
  {
   "cell_type": "code",
   "execution_count": 13,
   "metadata": {},
   "outputs": [
    {
     "name": "stdout",
     "output_type": "stream",
     "text": [
      "Runtime: 136.42510652542114 FPS: 1.4660058188243559\n"
     ]
    }
   ],
   "source": [
    "n_frames = 200\n",
    "\n",
    "start_time = time.time()\n",
    "\n",
    "for _ in range(n_frames):\n",
    "    # Get a frame from HDMI input\n",
    "    frame = hdmi_in.readframe()\n",
    "    \n",
    "    # Resize to the frame size required by YOLO network (416x416)\n",
    "    small_frame = cv2.resize(frame, dsize=(yolo_height, yolo_width), interpolation=cv2.INTER_CUBIC)\n",
    "    ncs_frame = small_frame.copy()/255.0\n",
    "    \n",
    "    # Send the frame to the NCS\n",
    "    results = detector.Detect(frame)\n",
    "    \n",
    "    # Interpret results and draw the boxes on the image\n",
    "    img_res = Visualize(frame, results)\n",
    "    \n",
    "    # Copy labelled image into the output frame\n",
    "    frame_out = hdmi_out.newframe()\n",
    "    frame_out[:,:,:] = img_res[:,:,:]\n",
    "    hdmi_out.writeframe(frame_out)\n",
    "\n",
    "end_time = time.time()\n",
    "\n",
    "print('Runtime:',end_time-start_time,'FPS:',n_frames/(end_time-start_time))"
   ]
  },
  {
   "cell_type": "markdown",
   "metadata": {},
   "source": [
    "### Close the Movidius NCS"
   ]
  },
  {
   "cell_type": "code",
   "execution_count": 14,
   "metadata": {},
   "outputs": [],
   "source": [
    "del detector"
   ]
  },
  {
   "cell_type": "markdown",
   "metadata": {},
   "source": [
    "### Close the HDMI interfaces"
   ]
  },
  {
   "cell_type": "code",
   "execution_count": 15,
   "metadata": {},
   "outputs": [],
   "source": [
    "hdmi_out.stop()\n",
    "hdmi_in.stop()\n",
    "del hdmi_in, hdmi_out"
   ]
  },
  {
   "cell_type": "code",
   "execution_count": null,
   "metadata": {},
   "outputs": [],
   "source": []
  }
 ],
 "metadata": {
  "kernelspec": {
   "display_name": "Python 3",
   "language": "python",
   "name": "python3"
  },
  "language_info": {
   "codemirror_mode": {
    "name": "ipython",
    "version": 3
   },
   "file_extension": ".py",
   "mimetype": "text/x-python",
   "name": "python",
   "nbconvert_exporter": "python",
   "pygments_lexer": "ipython3",
   "version": "3.6.0"
  }
 },
 "nbformat": 4,
 "nbformat_minor": 2
}
